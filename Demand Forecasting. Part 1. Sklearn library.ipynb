{
 "cells": [
  {
   "cell_type": "markdown",
   "id": "7c9047f6",
   "metadata": {},
   "source": [
    "#  Demand Forecasting. Part 1. Sklearn library"
   ]
  },
  {
   "cell_type": "markdown",
   "id": "5e23b45e",
   "metadata": {},
   "source": [
    "В этом занятии знакомимся с библиотекой <a href='https://scikit-learn.org/stable/getting_started.html'> Scikit Learn </a>, или SKLearn. \n",
    "\n",
    "Это опенсорсная библиотека по машинному обучению. Библиотека содержит разнообразные инструменты для:\n",
    "- обучения моделей как с учителем, так и без учителям\n",
    "- подготовки данных\n",
    "- отбора моделей\n",
    "- оценки моделей\n",
    "- и многого другого \n",
    "\n",
    "Как правило, импортируется не вся библиотека разом, а отдельные модули или даже отдельные функции.\n",
    "Поэтому дополнять код инструментами будем в процессе, а не сразу в одной ячейке!"
   ]
  },
  {
   "cell_type": "markdown",
   "id": "582aee03",
   "metadata": {},
   "source": [
    "## Данные\n",
    "Для демонстрации работы библиотеки используем датасет про [Walmart](https://www.kaggle.com/c/walmart-recruiting-store-sales-forecasting). Есть информация о 45 магазинах, расположенных в разных регионах. Каждый магазан содержит несколько отделов. Наша задача спрогнозировать продажи по каждому отделу для каждого магазина. \n",
    "\n",
    "\n",
    "* `Weekly_Sales` - объём продаж в данную неделю в данном отделе (целевая переменная)\n",
    "* `Store` - номер магазина;\n",
    "* `Type` - тип магазина;\n",
    "* `Size` - размер магазина;\n",
    "* `Dept` - номер отдела;\n",
    "* `Date` - дата;\n",
    "* `IsHoliday` - является ли неделя праздничной;\n",
    "\n",
    "В Walmart работает несколько акций по уценке товаров. Эти уценки обычно связаны с праздниками: Суперкубок, день Труда, день Благодарения, Рождество. С этими периодами нужно быть аккуратным. Продажи в эти дни аномальны, при этом наблюдений, связанных с этими аномалиями довольно мало.\n",
    "\n",
    "Для удобства вот информация о всех праздниках, попавших в датасет: \n",
    "\n",
    "```\n",
    "Суперкубок: 12-Фев-10, 11-Фев-11, 10-Фев-12\n",
    "День Труда: 10-Сен-10, 9-Фев-11, 7-Сен-12\n",
    "День Благодарения: 26-Ноя-10, 25-Ноя-11, 23-Ноя-12\n",
    "Рождество: 31-Дек-10, 30-Дек-11, 28-Дек-12\n",
    "```\n",
    "\n",
    "* `Temperature` - средняя температура в регионе в градусах по Фаренгейту;\n",
    "* `Fuel_Price` - стоимость топлива в регионе;\n",
    "* `MarkDown1-5` - данные, связанные с рекламными уценками, которые запускает Walmart. Данные уценки доступны только после ноября 2011 года и доступны не для всех магазинов. Данные анонимизированы. Непонятно на какие именно товары производилась уценка и в каких количествах. Компании часто анонимизируют данные, когда выкладывают их в опен сорс.  \n",
    "* `CPI` - индекс потребительских цен.\n",
    "* `Unemployment` - уровень безработицы."
   ]
  },
  {
   "cell_type": "markdown",
   "id": "72c7b319",
   "metadata": {},
   "source": [
    "### Загрузка данных"
   ]
  },
  {
   "cell_type": "code",
   "execution_count": 137,
   "id": "e0856347",
   "metadata": {},
   "outputs": [],
   "source": [
    "import pandas as pd\n",
    "from datetime import datetime\n",
    "import numpy as np\n",
    "import matplotlib.pyplot as plt"
   ]
  },
  {
   "cell_type": "code",
   "execution_count": 85,
   "id": "bef33cc4",
   "metadata": {},
   "outputs": [
    {
     "data": {
      "text/html": [
       "<div>\n",
       "<style scoped>\n",
       "    .dataframe tbody tr th:only-of-type {\n",
       "        vertical-align: middle;\n",
       "    }\n",
       "\n",
       "    .dataframe tbody tr th {\n",
       "        vertical-align: top;\n",
       "    }\n",
       "\n",
       "    .dataframe thead th {\n",
       "        text-align: right;\n",
       "    }\n",
       "</style>\n",
       "<table border=\"1\" class=\"dataframe\">\n",
       "  <thead>\n",
       "    <tr style=\"text-align: right;\">\n",
       "      <th></th>\n",
       "      <th>Store</th>\n",
       "      <th>Date</th>\n",
       "      <th>Dept</th>\n",
       "      <th>Weekly_Sales</th>\n",
       "      <th>IsHoliday</th>\n",
       "      <th>Type</th>\n",
       "      <th>Size</th>\n",
       "      <th>Temperature</th>\n",
       "      <th>Fuel_Price</th>\n",
       "      <th>MarkDown1</th>\n",
       "      <th>MarkDown2</th>\n",
       "      <th>MarkDown3</th>\n",
       "      <th>MarkDown4</th>\n",
       "      <th>MarkDown5</th>\n",
       "      <th>CPI</th>\n",
       "      <th>Unemployment</th>\n",
       "    </tr>\n",
       "  </thead>\n",
       "  <tbody>\n",
       "    <tr>\n",
       "      <th>0</th>\n",
       "      <td>1</td>\n",
       "      <td>2010-02-05</td>\n",
       "      <td>1</td>\n",
       "      <td>24924.50</td>\n",
       "      <td>False</td>\n",
       "      <td>A</td>\n",
       "      <td>151315</td>\n",
       "      <td>42.31</td>\n",
       "      <td>2.572</td>\n",
       "      <td>NaN</td>\n",
       "      <td>NaN</td>\n",
       "      <td>NaN</td>\n",
       "      <td>NaN</td>\n",
       "      <td>NaN</td>\n",
       "      <td>211.096358</td>\n",
       "      <td>8.106</td>\n",
       "    </tr>\n",
       "    <tr>\n",
       "      <th>1</th>\n",
       "      <td>1</td>\n",
       "      <td>2010-02-05</td>\n",
       "      <td>2</td>\n",
       "      <td>50605.27</td>\n",
       "      <td>False</td>\n",
       "      <td>A</td>\n",
       "      <td>151315</td>\n",
       "      <td>42.31</td>\n",
       "      <td>2.572</td>\n",
       "      <td>NaN</td>\n",
       "      <td>NaN</td>\n",
       "      <td>NaN</td>\n",
       "      <td>NaN</td>\n",
       "      <td>NaN</td>\n",
       "      <td>211.096358</td>\n",
       "      <td>8.106</td>\n",
       "    </tr>\n",
       "    <tr>\n",
       "      <th>2</th>\n",
       "      <td>1</td>\n",
       "      <td>2010-02-05</td>\n",
       "      <td>3</td>\n",
       "      <td>13740.12</td>\n",
       "      <td>False</td>\n",
       "      <td>A</td>\n",
       "      <td>151315</td>\n",
       "      <td>42.31</td>\n",
       "      <td>2.572</td>\n",
       "      <td>NaN</td>\n",
       "      <td>NaN</td>\n",
       "      <td>NaN</td>\n",
       "      <td>NaN</td>\n",
       "      <td>NaN</td>\n",
       "      <td>211.096358</td>\n",
       "      <td>8.106</td>\n",
       "    </tr>\n",
       "    <tr>\n",
       "      <th>3</th>\n",
       "      <td>1</td>\n",
       "      <td>2010-02-05</td>\n",
       "      <td>4</td>\n",
       "      <td>39954.04</td>\n",
       "      <td>False</td>\n",
       "      <td>A</td>\n",
       "      <td>151315</td>\n",
       "      <td>42.31</td>\n",
       "      <td>2.572</td>\n",
       "      <td>NaN</td>\n",
       "      <td>NaN</td>\n",
       "      <td>NaN</td>\n",
       "      <td>NaN</td>\n",
       "      <td>NaN</td>\n",
       "      <td>211.096358</td>\n",
       "      <td>8.106</td>\n",
       "    </tr>\n",
       "    <tr>\n",
       "      <th>4</th>\n",
       "      <td>1</td>\n",
       "      <td>2010-02-05</td>\n",
       "      <td>5</td>\n",
       "      <td>32229.38</td>\n",
       "      <td>False</td>\n",
       "      <td>A</td>\n",
       "      <td>151315</td>\n",
       "      <td>42.31</td>\n",
       "      <td>2.572</td>\n",
       "      <td>NaN</td>\n",
       "      <td>NaN</td>\n",
       "      <td>NaN</td>\n",
       "      <td>NaN</td>\n",
       "      <td>NaN</td>\n",
       "      <td>211.096358</td>\n",
       "      <td>8.106</td>\n",
       "    </tr>\n",
       "  </tbody>\n",
       "</table>\n",
       "</div>"
      ],
      "text/plain": [
       "   Store        Date  Dept  Weekly_Sales  IsHoliday Type    Size  Temperature  \\\n",
       "0      1  2010-02-05     1      24924.50      False    A  151315        42.31   \n",
       "1      1  2010-02-05     2      50605.27      False    A  151315        42.31   \n",
       "2      1  2010-02-05     3      13740.12      False    A  151315        42.31   \n",
       "3      1  2010-02-05     4      39954.04      False    A  151315        42.31   \n",
       "4      1  2010-02-05     5      32229.38      False    A  151315        42.31   \n",
       "\n",
       "   Fuel_Price  MarkDown1  MarkDown2  MarkDown3  MarkDown4  MarkDown5  \\\n",
       "0       2.572        NaN        NaN        NaN        NaN        NaN   \n",
       "1       2.572        NaN        NaN        NaN        NaN        NaN   \n",
       "2       2.572        NaN        NaN        NaN        NaN        NaN   \n",
       "3       2.572        NaN        NaN        NaN        NaN        NaN   \n",
       "4       2.572        NaN        NaN        NaN        NaN        NaN   \n",
       "\n",
       "          CPI  Unemployment  \n",
       "0  211.096358         8.106  \n",
       "1  211.096358         8.106  \n",
       "2  211.096358         8.106  \n",
       "3  211.096358         8.106  \n",
       "4  211.096358         8.106  "
      ]
     },
     "execution_count": 85,
     "metadata": {},
     "output_type": "execute_result"
    }
   ],
   "source": [
    "df = pd.read_csv('walmart.csv', sep='\\t')\n",
    "df.head()"
   ]
  },
  {
   "cell_type": "code",
   "execution_count": 86,
   "id": "2af9cef3",
   "metadata": {},
   "outputs": [
    {
     "name": "stdout",
     "output_type": "stream",
     "text": [
      "<class 'pandas.core.frame.DataFrame'>\n",
      "RangeIndex: 421570 entries, 0 to 421569\n",
      "Data columns (total 16 columns):\n",
      " #   Column        Non-Null Count   Dtype  \n",
      "---  ------        --------------   -----  \n",
      " 0   Store         421570 non-null  int64  \n",
      " 1   Date          421570 non-null  object \n",
      " 2   Dept          421570 non-null  int64  \n",
      " 3   Weekly_Sales  421570 non-null  float64\n",
      " 4   IsHoliday     421570 non-null  bool   \n",
      " 5   Type          421570 non-null  object \n",
      " 6   Size          421570 non-null  int64  \n",
      " 7   Temperature   421570 non-null  float64\n",
      " 8   Fuel_Price    421570 non-null  float64\n",
      " 9   MarkDown1     150681 non-null  float64\n",
      " 10  MarkDown2     111248 non-null  float64\n",
      " 11  MarkDown3     137091 non-null  float64\n",
      " 12  MarkDown4     134967 non-null  float64\n",
      " 13  MarkDown5     151432 non-null  float64\n",
      " 14  CPI           421570 non-null  float64\n",
      " 15  Unemployment  421570 non-null  float64\n",
      "dtypes: bool(1), float64(10), int64(3), object(2)\n",
      "memory usage: 48.6+ MB\n"
     ]
    }
   ],
   "source": [
    "df.info()"
   ]
  },
  {
   "cell_type": "markdown",
   "id": "bbefc080",
   "metadata": {},
   "source": [
    "## Предобработка данных без Sklearn"
   ]
  },
  {
   "cell_type": "markdown",
   "id": "9c11be9d",
   "metadata": {},
   "source": [
    "В данных точно есть пропуски!"
   ]
  },
  {
   "cell_type": "code",
   "execution_count": 87,
   "id": "96155d4b",
   "metadata": {},
   "outputs": [],
   "source": [
    "df.fillna(0, inplace=True)  # опция inplace применяет изменения к df"
   ]
  },
  {
   "cell_type": "code",
   "execution_count": 88,
   "id": "f94591ea",
   "metadata": {},
   "outputs": [],
   "source": [
    "# организуем правильную запись категориальных переменных\n",
    "df['Store'] = df['Store'].astype('str')  # каждое число - категория, сообщим питону об этом\n",
    "df['Dept'] = df['Dept'].astype('str')    # каждое число - категория, сообщим питону об этом"
   ]
  },
  {
   "cell_type": "code",
   "execution_count": 89,
   "id": "12179757",
   "metadata": {},
   "outputs": [],
   "source": [
    "# переводим температуру в Цельсии\n",
    "df['Temperature'] = (df['Temperature'] - 32) * 5/9"
   ]
  },
  {
   "cell_type": "code",
   "execution_count": 90,
   "id": "b84b0f7b",
   "metadata": {},
   "outputs": [],
   "source": [
    "# Работа со временем расписана тут: https://pythonworld.ru/moduli/modul-datetime.html\n",
    "# делаем у колонки дата временной тип\n",
    "# df['DateType'] = pd.to_datetime(df['Date'])\n",
    "df['DateType'] = df['Date'].apply(lambda w: datetime.strptime(w, '%Y-%m-%d')) \n",
    "\n",
    "# df['Month'] = df['DateType'].dt.month\n",
    "# вводим отдельную переменную для месяца, когда происходили продажи \n",
    "df['Month'] = df['DateType'].apply(lambda w: 'Month_' + str(w.month))\n",
    "\n",
    "# Работаем с особыми днями! \n",
    "# Чёрная пятница\n",
    "df['Black_Friday'] = np.where((df['DateType']==datetime(2010, 11, 26).date()) | \\\n",
    "                              (df['DateType']==datetime(2011, 11, 25).date()) | \\\n",
    "                              (df['DateType']==datetime(2012, 11, 23).date()), 1, 0)\n",
    "\n",
    "# Предрождественские деньки: \n",
    "df['Pre_christmas'] = np.where((df['DateType']==datetime(2010, 12, 23).date()) | \\\n",
    "                               (df['DateType']==datetime(2010, 12, 24).date()) | \\\n",
    "                               (df['DateType']==datetime(2011, 12, 23).date()) | \\\n",
    "                               (df['DateType']==datetime(2011, 12, 24).date()) | \\\n",
    "                               (df['DateType']==datetime(2012, 12, 23).date()) | \\\n",
    "                               (df['DateType']==datetime(2012, 12, 24).date()), 1, 0)\n"
   ]
  },
  {
   "cell_type": "markdown",
   "id": "baa78832",
   "metadata": {},
   "source": [
    "Для удобства, создадим два списка из переменных. В первый войдут все действительные, во второй все категориальные. Переменная `Weekly_Sales` не войдёт ни в один из списов. Мы же её прогнозируем! Переменная `Date` также не войдёт ни в один из списков. Она техническая и нужна для удобства. Мы на её основе сделаем несколько новых переменных немного позже. "
   ]
  },
  {
   "cell_type": "code",
   "execution_count": 91,
   "id": "c392a288",
   "metadata": {},
   "outputs": [],
   "source": [
    "# Date - техническая переменная, \n",
    "# Weekly_Sales - таргет\n",
    "\n",
    "# категориальные переменные \n",
    "var_cat = ['Type', 'Store', 'Dept', 'IsHoliday']\n",
    "\n",
    "# непрерывные переменные\n",
    "var_real = ['MarkDown1','MarkDown2', 'MarkDown3',\n",
    "            'MarkDown4','MarkDown5', 'CPI', 'Unemployment', \n",
    "            'Temperature', 'Fuel_Price','Size']"
   ]
  },
  {
   "cell_type": "code",
   "execution_count": 92,
   "id": "bc3a6a0c",
   "metadata": {},
   "outputs": [
    {
     "data": {
      "text/html": [
       "<div>\n",
       "<style scoped>\n",
       "    .dataframe tbody tr th:only-of-type {\n",
       "        vertical-align: middle;\n",
       "    }\n",
       "\n",
       "    .dataframe tbody tr th {\n",
       "        vertical-align: top;\n",
       "    }\n",
       "\n",
       "    .dataframe thead th {\n",
       "        text-align: right;\n",
       "    }\n",
       "</style>\n",
       "<table border=\"1\" class=\"dataframe\">\n",
       "  <thead>\n",
       "    <tr style=\"text-align: right;\">\n",
       "      <th></th>\n",
       "      <th>Weekly_Sales</th>\n",
       "      <th>Size</th>\n",
       "      <th>Temperature</th>\n",
       "      <th>Fuel_Price</th>\n",
       "      <th>MarkDown1</th>\n",
       "      <th>MarkDown2</th>\n",
       "      <th>MarkDown3</th>\n",
       "      <th>MarkDown4</th>\n",
       "      <th>MarkDown5</th>\n",
       "      <th>CPI</th>\n",
       "      <th>Unemployment</th>\n",
       "      <th>Black_Friday</th>\n",
       "      <th>Pre_christmas</th>\n",
       "    </tr>\n",
       "  </thead>\n",
       "  <tbody>\n",
       "    <tr>\n",
       "      <th>count</th>\n",
       "      <td>421570.000000</td>\n",
       "      <td>421570.000000</td>\n",
       "      <td>421570.000000</td>\n",
       "      <td>421570.000000</td>\n",
       "      <td>421570.000000</td>\n",
       "      <td>421570.000000</td>\n",
       "      <td>421570.000000</td>\n",
       "      <td>421570.000000</td>\n",
       "      <td>421570.000000</td>\n",
       "      <td>421570.000000</td>\n",
       "      <td>421570.000000</td>\n",
       "      <td>421570.0</td>\n",
       "      <td>421570.0</td>\n",
       "    </tr>\n",
       "    <tr>\n",
       "      <th>mean</th>\n",
       "      <td>15981.258123</td>\n",
       "      <td>136727.915739</td>\n",
       "      <td>15.605588</td>\n",
       "      <td>3.361027</td>\n",
       "      <td>2590.074819</td>\n",
       "      <td>879.974298</td>\n",
       "      <td>468.087665</td>\n",
       "      <td>1083.132268</td>\n",
       "      <td>1662.772385</td>\n",
       "      <td>171.201947</td>\n",
       "      <td>7.960289</td>\n",
       "      <td>0.0</td>\n",
       "      <td>0.0</td>\n",
       "    </tr>\n",
       "    <tr>\n",
       "      <th>std</th>\n",
       "      <td>22711.183519</td>\n",
       "      <td>60980.583328</td>\n",
       "      <td>10.248851</td>\n",
       "      <td>0.458515</td>\n",
       "      <td>6052.385934</td>\n",
       "      <td>5084.538801</td>\n",
       "      <td>5528.873453</td>\n",
       "      <td>3894.529945</td>\n",
       "      <td>4207.629321</td>\n",
       "      <td>39.159276</td>\n",
       "      <td>1.863296</td>\n",
       "      <td>0.0</td>\n",
       "      <td>0.0</td>\n",
       "    </tr>\n",
       "    <tr>\n",
       "      <th>min</th>\n",
       "      <td>-4988.940000</td>\n",
       "      <td>34875.000000</td>\n",
       "      <td>-18.922222</td>\n",
       "      <td>2.472000</td>\n",
       "      <td>0.000000</td>\n",
       "      <td>-265.760000</td>\n",
       "      <td>-29.100000</td>\n",
       "      <td>0.000000</td>\n",
       "      <td>0.000000</td>\n",
       "      <td>126.064000</td>\n",
       "      <td>3.879000</td>\n",
       "      <td>0.0</td>\n",
       "      <td>0.0</td>\n",
       "    </tr>\n",
       "    <tr>\n",
       "      <th>25%</th>\n",
       "      <td>2079.650000</td>\n",
       "      <td>93638.000000</td>\n",
       "      <td>8.155556</td>\n",
       "      <td>2.933000</td>\n",
       "      <td>0.000000</td>\n",
       "      <td>0.000000</td>\n",
       "      <td>0.000000</td>\n",
       "      <td>0.000000</td>\n",
       "      <td>0.000000</td>\n",
       "      <td>132.022667</td>\n",
       "      <td>6.891000</td>\n",
       "      <td>0.0</td>\n",
       "      <td>0.0</td>\n",
       "    </tr>\n",
       "    <tr>\n",
       "      <th>50%</th>\n",
       "      <td>7612.030000</td>\n",
       "      <td>140167.000000</td>\n",
       "      <td>16.716667</td>\n",
       "      <td>3.452000</td>\n",
       "      <td>0.000000</td>\n",
       "      <td>0.000000</td>\n",
       "      <td>0.000000</td>\n",
       "      <td>0.000000</td>\n",
       "      <td>0.000000</td>\n",
       "      <td>182.318780</td>\n",
       "      <td>7.866000</td>\n",
       "      <td>0.0</td>\n",
       "      <td>0.0</td>\n",
       "    </tr>\n",
       "    <tr>\n",
       "      <th>75%</th>\n",
       "      <td>20205.852500</td>\n",
       "      <td>202505.000000</td>\n",
       "      <td>23.488889</td>\n",
       "      <td>3.738000</td>\n",
       "      <td>2809.050000</td>\n",
       "      <td>2.200000</td>\n",
       "      <td>4.540000</td>\n",
       "      <td>425.290000</td>\n",
       "      <td>2168.040000</td>\n",
       "      <td>212.416993</td>\n",
       "      <td>8.572000</td>\n",
       "      <td>0.0</td>\n",
       "      <td>0.0</td>\n",
       "    </tr>\n",
       "    <tr>\n",
       "      <th>max</th>\n",
       "      <td>693099.360000</td>\n",
       "      <td>219622.000000</td>\n",
       "      <td>37.855556</td>\n",
       "      <td>4.468000</td>\n",
       "      <td>88646.760000</td>\n",
       "      <td>104519.540000</td>\n",
       "      <td>141630.610000</td>\n",
       "      <td>67474.850000</td>\n",
       "      <td>108519.280000</td>\n",
       "      <td>227.232807</td>\n",
       "      <td>14.313000</td>\n",
       "      <td>0.0</td>\n",
       "      <td>0.0</td>\n",
       "    </tr>\n",
       "  </tbody>\n",
       "</table>\n",
       "</div>"
      ],
      "text/plain": [
       "        Weekly_Sales           Size    Temperature     Fuel_Price  \\\n",
       "count  421570.000000  421570.000000  421570.000000  421570.000000   \n",
       "mean    15981.258123  136727.915739      15.605588       3.361027   \n",
       "std     22711.183519   60980.583328      10.248851       0.458515   \n",
       "min     -4988.940000   34875.000000     -18.922222       2.472000   \n",
       "25%      2079.650000   93638.000000       8.155556       2.933000   \n",
       "50%      7612.030000  140167.000000      16.716667       3.452000   \n",
       "75%     20205.852500  202505.000000      23.488889       3.738000   \n",
       "max    693099.360000  219622.000000      37.855556       4.468000   \n",
       "\n",
       "           MarkDown1      MarkDown2      MarkDown3      MarkDown4  \\\n",
       "count  421570.000000  421570.000000  421570.000000  421570.000000   \n",
       "mean     2590.074819     879.974298     468.087665    1083.132268   \n",
       "std      6052.385934    5084.538801    5528.873453    3894.529945   \n",
       "min         0.000000    -265.760000     -29.100000       0.000000   \n",
       "25%         0.000000       0.000000       0.000000       0.000000   \n",
       "50%         0.000000       0.000000       0.000000       0.000000   \n",
       "75%      2809.050000       2.200000       4.540000     425.290000   \n",
       "max     88646.760000  104519.540000  141630.610000   67474.850000   \n",
       "\n",
       "           MarkDown5            CPI   Unemployment  Black_Friday  \\\n",
       "count  421570.000000  421570.000000  421570.000000      421570.0   \n",
       "mean     1662.772385     171.201947       7.960289           0.0   \n",
       "std      4207.629321      39.159276       1.863296           0.0   \n",
       "min         0.000000     126.064000       3.879000           0.0   \n",
       "25%         0.000000     132.022667       6.891000           0.0   \n",
       "50%         0.000000     182.318780       7.866000           0.0   \n",
       "75%      2168.040000     212.416993       8.572000           0.0   \n",
       "max    108519.280000     227.232807      14.313000           0.0   \n",
       "\n",
       "       Pre_christmas  \n",
       "count       421570.0  \n",
       "mean             0.0  \n",
       "std              0.0  \n",
       "min              0.0  \n",
       "25%              0.0  \n",
       "50%              0.0  \n",
       "75%              0.0  \n",
       "max              0.0  "
      ]
     },
     "execution_count": 92,
     "metadata": {},
     "output_type": "execute_result"
    }
   ],
   "source": [
    "# посмотрим на основные порядковые статистики, связанные с нашей выборкой\n",
    "df.describe()"
   ]
  },
  {
   "cell_type": "markdown",
   "id": "e2402a6b",
   "metadata": {},
   "source": [
    "Заметили аномалии? Нет? Присмотритесь к колонке `Weekly_Sales`. Минимальное значение отрицательное. Как думаете, что это значит? Давайте оценим масштаб бедствия. "
   ]
  },
  {
   "cell_type": "code",
   "execution_count": 93,
   "id": "88c50937",
   "metadata": {},
   "outputs": [
    {
     "data": {
      "text/plain": [
       "0.0030481296107408022"
      ]
     },
     "execution_count": 93,
     "metadata": {},
     "output_type": "execute_result"
    }
   ],
   "source": [
    "sum(df['Weekly_Sales'] < 0) / df.shape[0]"
   ]
  },
  {
   "cell_type": "markdown",
   "id": "cd98b1db",
   "metadata": {},
   "source": [
    "Таких точек совсем мало. Что же означают отрицательные продажи? Один из способов проинтерпретировать это: нам вернули назад товаров больше, чем мы смогли продать. В маленьких магазинах такое вполне могло произойти. Другая интерпретация: ошибка при создании датасета. Как поступать с такими наблюдениями непонятно. Давайте пока что оставим их. "
   ]
  },
  {
   "cell_type": "code",
   "execution_count": 94,
   "id": "89372eff",
   "metadata": {},
   "outputs": [],
   "source": [
    "df['future_sales'] = df['Weekly_Sales'].shift(-1)"
   ]
  },
  {
   "cell_type": "markdown",
   "id": "6410b1e6",
   "metadata": {},
   "source": [
    "## Ohe-hot-encoding"
   ]
  },
  {
   "cell_type": "markdown",
   "id": "9deca018",
   "metadata": {},
   "source": [
    "Это процедура цифровизации категориальных переменных. \n",
    "<img src='https://avatars.mds.yandex.net/i?id=b43949b06de1e89b83675e7462583a63_l-5297106-images-thumbs&n=13'>\n",
    "\n",
    "В нашем датасете их 4: ['Type', 'Store', 'Dept', 'IsHoliday'].\n",
    "Безусловно, OHE можно сделать функцией из sklearn. Однако и в пандас есть удобный функционал!"
   ]
  },
  {
   "cell_type": "code",
   "execution_count": 95,
   "id": "b92668bb",
   "metadata": {},
   "outputs": [
    {
     "name": "stdout",
     "output_type": "stream",
     "text": [
      "Размерность таблицы до OHE: (421570, 20)\n",
      "Размерность таблицы после OHE: (421570, 294)\n"
     ]
    },
    {
     "data": {
      "text/html": [
       "<div>\n",
       "<style scoped>\n",
       "    .dataframe tbody tr th:only-of-type {\n",
       "        vertical-align: middle;\n",
       "    }\n",
       "\n",
       "    .dataframe tbody tr th {\n",
       "        vertical-align: top;\n",
       "    }\n",
       "\n",
       "    .dataframe thead th {\n",
       "        text-align: right;\n",
       "    }\n",
       "</style>\n",
       "<table border=\"1\" class=\"dataframe\">\n",
       "  <thead>\n",
       "    <tr style=\"text-align: right;\">\n",
       "      <th></th>\n",
       "      <th>Weekly_Sales</th>\n",
       "      <th>IsHoliday</th>\n",
       "      <th>Size</th>\n",
       "      <th>Temperature</th>\n",
       "      <th>Fuel_Price</th>\n",
       "      <th>MarkDown1</th>\n",
       "      <th>MarkDown2</th>\n",
       "      <th>MarkDown3</th>\n",
       "      <th>MarkDown4</th>\n",
       "      <th>MarkDown5</th>\n",
       "      <th>...</th>\n",
       "      <th>Month_Month_11</th>\n",
       "      <th>Month_Month_12</th>\n",
       "      <th>Month_Month_2</th>\n",
       "      <th>Month_Month_3</th>\n",
       "      <th>Month_Month_4</th>\n",
       "      <th>Month_Month_5</th>\n",
       "      <th>Month_Month_6</th>\n",
       "      <th>Month_Month_7</th>\n",
       "      <th>Month_Month_8</th>\n",
       "      <th>Month_Month_9</th>\n",
       "    </tr>\n",
       "  </thead>\n",
       "  <tbody>\n",
       "    <tr>\n",
       "      <th>0</th>\n",
       "      <td>24924.50</td>\n",
       "      <td>False</td>\n",
       "      <td>151315</td>\n",
       "      <td>5.727778</td>\n",
       "      <td>2.572</td>\n",
       "      <td>0.0</td>\n",
       "      <td>0.0</td>\n",
       "      <td>0.0</td>\n",
       "      <td>0.0</td>\n",
       "      <td>0.0</td>\n",
       "      <td>...</td>\n",
       "      <td>0</td>\n",
       "      <td>0</td>\n",
       "      <td>1</td>\n",
       "      <td>0</td>\n",
       "      <td>0</td>\n",
       "      <td>0</td>\n",
       "      <td>0</td>\n",
       "      <td>0</td>\n",
       "      <td>0</td>\n",
       "      <td>0</td>\n",
       "    </tr>\n",
       "    <tr>\n",
       "      <th>1</th>\n",
       "      <td>50605.27</td>\n",
       "      <td>False</td>\n",
       "      <td>151315</td>\n",
       "      <td>5.727778</td>\n",
       "      <td>2.572</td>\n",
       "      <td>0.0</td>\n",
       "      <td>0.0</td>\n",
       "      <td>0.0</td>\n",
       "      <td>0.0</td>\n",
       "      <td>0.0</td>\n",
       "      <td>...</td>\n",
       "      <td>0</td>\n",
       "      <td>0</td>\n",
       "      <td>1</td>\n",
       "      <td>0</td>\n",
       "      <td>0</td>\n",
       "      <td>0</td>\n",
       "      <td>0</td>\n",
       "      <td>0</td>\n",
       "      <td>0</td>\n",
       "      <td>0</td>\n",
       "    </tr>\n",
       "    <tr>\n",
       "      <th>2</th>\n",
       "      <td>13740.12</td>\n",
       "      <td>False</td>\n",
       "      <td>151315</td>\n",
       "      <td>5.727778</td>\n",
       "      <td>2.572</td>\n",
       "      <td>0.0</td>\n",
       "      <td>0.0</td>\n",
       "      <td>0.0</td>\n",
       "      <td>0.0</td>\n",
       "      <td>0.0</td>\n",
       "      <td>...</td>\n",
       "      <td>0</td>\n",
       "      <td>0</td>\n",
       "      <td>1</td>\n",
       "      <td>0</td>\n",
       "      <td>0</td>\n",
       "      <td>0</td>\n",
       "      <td>0</td>\n",
       "      <td>0</td>\n",
       "      <td>0</td>\n",
       "      <td>0</td>\n",
       "    </tr>\n",
       "    <tr>\n",
       "      <th>3</th>\n",
       "      <td>39954.04</td>\n",
       "      <td>False</td>\n",
       "      <td>151315</td>\n",
       "      <td>5.727778</td>\n",
       "      <td>2.572</td>\n",
       "      <td>0.0</td>\n",
       "      <td>0.0</td>\n",
       "      <td>0.0</td>\n",
       "      <td>0.0</td>\n",
       "      <td>0.0</td>\n",
       "      <td>...</td>\n",
       "      <td>0</td>\n",
       "      <td>0</td>\n",
       "      <td>1</td>\n",
       "      <td>0</td>\n",
       "      <td>0</td>\n",
       "      <td>0</td>\n",
       "      <td>0</td>\n",
       "      <td>0</td>\n",
       "      <td>0</td>\n",
       "      <td>0</td>\n",
       "    </tr>\n",
       "    <tr>\n",
       "      <th>4</th>\n",
       "      <td>32229.38</td>\n",
       "      <td>False</td>\n",
       "      <td>151315</td>\n",
       "      <td>5.727778</td>\n",
       "      <td>2.572</td>\n",
       "      <td>0.0</td>\n",
       "      <td>0.0</td>\n",
       "      <td>0.0</td>\n",
       "      <td>0.0</td>\n",
       "      <td>0.0</td>\n",
       "      <td>...</td>\n",
       "      <td>0</td>\n",
       "      <td>0</td>\n",
       "      <td>1</td>\n",
       "      <td>0</td>\n",
       "      <td>0</td>\n",
       "      <td>0</td>\n",
       "      <td>0</td>\n",
       "      <td>0</td>\n",
       "      <td>0</td>\n",
       "      <td>0</td>\n",
       "    </tr>\n",
       "  </tbody>\n",
       "</table>\n",
       "<p>5 rows × 294 columns</p>\n",
       "</div>"
      ],
      "text/plain": [
       "   Weekly_Sales  IsHoliday    Size  Temperature  Fuel_Price  MarkDown1  \\\n",
       "0      24924.50      False  151315     5.727778       2.572        0.0   \n",
       "1      50605.27      False  151315     5.727778       2.572        0.0   \n",
       "2      13740.12      False  151315     5.727778       2.572        0.0   \n",
       "3      39954.04      False  151315     5.727778       2.572        0.0   \n",
       "4      32229.38      False  151315     5.727778       2.572        0.0   \n",
       "\n",
       "   MarkDown2  MarkDown3  MarkDown4  MarkDown5  ...  Month_Month_11  \\\n",
       "0        0.0        0.0        0.0        0.0  ...               0   \n",
       "1        0.0        0.0        0.0        0.0  ...               0   \n",
       "2        0.0        0.0        0.0        0.0  ...               0   \n",
       "3        0.0        0.0        0.0        0.0  ...               0   \n",
       "4        0.0        0.0        0.0        0.0  ...               0   \n",
       "\n",
       "   Month_Month_12  Month_Month_2  Month_Month_3  Month_Month_4  Month_Month_5  \\\n",
       "0               0              1              0              0              0   \n",
       "1               0              1              0              0              0   \n",
       "2               0              1              0              0              0   \n",
       "3               0              1              0              0              0   \n",
       "4               0              1              0              0              0   \n",
       "\n",
       "   Month_Month_6  Month_Month_7  Month_Month_8  Month_Month_9  \n",
       "0              0              0              0              0  \n",
       "1              0              0              0              0  \n",
       "2              0              0              0              0  \n",
       "3              0              0              0              0  \n",
       "4              0              0              0              0  \n",
       "\n",
       "[5 rows x 294 columns]"
      ]
     },
     "execution_count": 95,
     "metadata": {},
     "output_type": "execute_result"
    }
   ],
   "source": [
    "df.drop('DateType', axis=1, inplace=True)\n",
    "print('Размерность таблицы до OHE:', df.shape)\n",
    "df = pd.get_dummies(df, drop_first=True)\n",
    "print('Размерность таблицы после OHE:', df.shape)\n",
    "df.head()"
   ]
  },
  {
   "cell_type": "markdown",
   "id": "78e62f5a",
   "metadata": {},
   "source": [
    "## Модуль sklearn.model_selection"
   ]
  },
  {
   "cell_type": "markdown",
   "id": "7473754d",
   "metadata": {},
   "source": [
    "В модуле собраны инструменты для разбиения данных, валидации моделей и поиска гиперпараметров моделей.\n",
    "\n",
    "Зачем нужно совершать такие манипуляции с данными?\n",
    "Все просто - мы стремимся натренировать такие модели, чтобы у них была высокая обобщающая способность.\n",
    "\n",
    "Как в реальности используется модель прогноза спроса?\n",
    "- Натренированная модель выдает прогнозы: например, в магазине Х за следующие 7 дней продадут 500 кг огурцов.\n",
    "- Прогноз используют для фактического заказа товаров.\n",
    "- В магазине появляется 500кг огурцов.\n",
    "\n",
    "В идеальной картине мира хочется, чтобы и правда продались все 500кг огурцов. Но это может быть не так. Могут быть раскуплены 498кг, а могут быть 100кг.\n",
    "\n",
    "Чтобы модель научилась давать адекватные прогнозы, во время обучения (=тренировки) симулируют и реальную работу с данными - откладывают блоки данных, на \"свежих\" данных проверяют качество модели\n",
    "\n",
    "**Основные инструменты модуля**:\n",
    "\n",
    "- **sklearn.model_selection.train_test_split**(*arrays, test_size=None, train_size=None, random_state=None, shuffle=True, stratify=None\n",
    "\n",
    "Разбивает данные на 2 части: обучающую (тренировочную) выборку, на которой тренируем модель, и контрольную (тестовую) выборку, на которой проверяем.\n",
    "\n",
    "- **sklearn.model_selection.KFold**(n_splits=5, *, shuffle=False, random_state=None)\n",
    "\n",
    "Класс, в котором можно организовать K-Fold-кросс-валидацию\n",
    "\n",
    "<img src='https://miro.medium.com/v2/resize:fit:1200/1*9NosjiPCNNAhHfEdNYFfUQ.png'>\n",
    "\n",
    "- **sklearn.model_selection.GridSearchCV**(estimator, param_grid, *, scoring=None, n_jobs=None, refit=True, cv=None, verbose=0, pre_dispatch='2*n_jobs', error_score=nan, return_train_score=False)\n",
    "\n",
    "Класс, организующий поиск по решетке - для поиска наилучших гиперпараметров\n",
    "\n",
    "<img src='https://media.slid.es/uploads/555484/images/8438871/pasted-from-clipboard.png'> "
   ]
  },
  {
   "cell_type": "code",
   "execution_count": 96,
   "id": "48b7a8d4",
   "metadata": {},
   "outputs": [],
   "source": [
    "from sklearn.model_selection import train_test_split, KFold, GridSearchCV"
   ]
  },
  {
   "cell_type": "code",
   "execution_count": 97,
   "id": "f4ce2952",
   "metadata": {},
   "outputs": [],
   "source": [
    "df['IsHoliday'] = df['IsHoliday']*1\n"
   ]
  },
  {
   "cell_type": "code",
   "execution_count": 113,
   "id": "e20c26ea",
   "metadata": {},
   "outputs": [],
   "source": [
    "df = df[~df['future_sales'].isna()]"
   ]
  },
  {
   "cell_type": "code",
   "execution_count": 114,
   "id": "17409156",
   "metadata": {},
   "outputs": [],
   "source": [
    "y = df['future_sales']\n",
    "X = df.drop(['future_sales', 'Weekly_Sales'], axis=1)\n",
    "\n",
    "# делим в пропорции 70 к 30\n",
    "X_train, X_test, y_train, y_test = train_test_split(X, y, test_size = 0.3) "
   ]
  },
  {
   "cell_type": "markdown",
   "id": "72dacae5",
   "metadata": {},
   "source": [
    "## Модуль sklearn.preprocessing"
   ]
  },
  {
   "cell_type": "markdown",
   "id": "229841b6",
   "metadata": {},
   "source": [
    "Все инструменты для обработки данных находятся здесь, в том числе:\n",
    "- **sklearn.preprocessing.OneHotEncoder**(*, categories='auto', drop=None, sparse='deprecated', sparse_output=True, dtype=<class 'numpy.float64'>, handle_unknown='error', min_frequency=None, max_categories=None, feature_name_combiner='concat')\n",
    "\n",
    "Тот самый OHE-кодировщик!\n",
    "\n",
    "- **sklearn.preprocessing.StandardScaler**(*, copy=True, with_mean=True, with_std=True)\n",
    "\n",
    "Стандартный шкалировщик, которые преобразует исходные данные Х по формуле:\n",
    "$$ Z = \\frac{(X - \\mu)}{\\sigma}$$\n",
    "\n",
    "- **sklearn.preprocessing.binarize**(X, *, threshold=0.0, copy=True)\n",
    "\n",
    "Функция, возвращающая бинарную колонку из исходной при использовании границы."
   ]
  },
  {
   "cell_type": "code",
   "execution_count": 115,
   "id": "f42be1e2",
   "metadata": {},
   "outputs": [
    {
     "data": {
      "text/html": [
       "<style>#sk-container-id-4 {color: black;background-color: white;}#sk-container-id-4 pre{padding: 0;}#sk-container-id-4 div.sk-toggleable {background-color: white;}#sk-container-id-4 label.sk-toggleable__label {cursor: pointer;display: block;width: 100%;margin-bottom: 0;padding: 0.3em;box-sizing: border-box;text-align: center;}#sk-container-id-4 label.sk-toggleable__label-arrow:before {content: \"▸\";float: left;margin-right: 0.25em;color: #696969;}#sk-container-id-4 label.sk-toggleable__label-arrow:hover:before {color: black;}#sk-container-id-4 div.sk-estimator:hover label.sk-toggleable__label-arrow:before {color: black;}#sk-container-id-4 div.sk-toggleable__content {max-height: 0;max-width: 0;overflow: hidden;text-align: left;background-color: #f0f8ff;}#sk-container-id-4 div.sk-toggleable__content pre {margin: 0.2em;color: black;border-radius: 0.25em;background-color: #f0f8ff;}#sk-container-id-4 input.sk-toggleable__control:checked~div.sk-toggleable__content {max-height: 200px;max-width: 100%;overflow: auto;}#sk-container-id-4 input.sk-toggleable__control:checked~label.sk-toggleable__label-arrow:before {content: \"▾\";}#sk-container-id-4 div.sk-estimator input.sk-toggleable__control:checked~label.sk-toggleable__label {background-color: #d4ebff;}#sk-container-id-4 div.sk-label input.sk-toggleable__control:checked~label.sk-toggleable__label {background-color: #d4ebff;}#sk-container-id-4 input.sk-hidden--visually {border: 0;clip: rect(1px 1px 1px 1px);clip: rect(1px, 1px, 1px, 1px);height: 1px;margin: -1px;overflow: hidden;padding: 0;position: absolute;width: 1px;}#sk-container-id-4 div.sk-estimator {font-family: monospace;background-color: #f0f8ff;border: 1px dotted black;border-radius: 0.25em;box-sizing: border-box;margin-bottom: 0.5em;}#sk-container-id-4 div.sk-estimator:hover {background-color: #d4ebff;}#sk-container-id-4 div.sk-parallel-item::after {content: \"\";width: 100%;border-bottom: 1px solid gray;flex-grow: 1;}#sk-container-id-4 div.sk-label:hover label.sk-toggleable__label {background-color: #d4ebff;}#sk-container-id-4 div.sk-serial::before {content: \"\";position: absolute;border-left: 1px solid gray;box-sizing: border-box;top: 0;bottom: 0;left: 50%;z-index: 0;}#sk-container-id-4 div.sk-serial {display: flex;flex-direction: column;align-items: center;background-color: white;padding-right: 0.2em;padding-left: 0.2em;position: relative;}#sk-container-id-4 div.sk-item {position: relative;z-index: 1;}#sk-container-id-4 div.sk-parallel {display: flex;align-items: stretch;justify-content: center;background-color: white;position: relative;}#sk-container-id-4 div.sk-item::before, #sk-container-id-4 div.sk-parallel-item::before {content: \"\";position: absolute;border-left: 1px solid gray;box-sizing: border-box;top: 0;bottom: 0;left: 50%;z-index: -1;}#sk-container-id-4 div.sk-parallel-item {display: flex;flex-direction: column;z-index: 1;position: relative;background-color: white;}#sk-container-id-4 div.sk-parallel-item:first-child::after {align-self: flex-end;width: 50%;}#sk-container-id-4 div.sk-parallel-item:last-child::after {align-self: flex-start;width: 50%;}#sk-container-id-4 div.sk-parallel-item:only-child::after {width: 0;}#sk-container-id-4 div.sk-dashed-wrapped {border: 1px dashed gray;margin: 0 0.4em 0.5em 0.4em;box-sizing: border-box;padding-bottom: 0.4em;background-color: white;}#sk-container-id-4 div.sk-label label {font-family: monospace;font-weight: bold;display: inline-block;line-height: 1.2em;}#sk-container-id-4 div.sk-label-container {text-align: center;}#sk-container-id-4 div.sk-container {/* jupyter's `normalize.less` sets `[hidden] { display: none; }` but bootstrap.min.css set `[hidden] { display: none !important; }` so we also need the `!important` here to be able to override the default hidden behavior on the sphinx rendered scikit-learn.org. See: https://github.com/scikit-learn/scikit-learn/issues/21755 */display: inline-block !important;position: relative;}#sk-container-id-4 div.sk-text-repr-fallback {display: none;}</style><div id=\"sk-container-id-4\" class=\"sk-top-container\"><div class=\"sk-text-repr-fallback\"><pre>StandardScaler()</pre><b>In a Jupyter environment, please rerun this cell to show the HTML representation or trust the notebook. <br />On GitHub, the HTML representation is unable to render, please try loading this page with nbviewer.org.</b></div><div class=\"sk-container\" hidden><div class=\"sk-item\"><div class=\"sk-estimator sk-toggleable\"><input class=\"sk-toggleable__control sk-hidden--visually\" id=\"sk-estimator-id-4\" type=\"checkbox\" checked><label for=\"sk-estimator-id-4\" class=\"sk-toggleable__label sk-toggleable__label-arrow\">StandardScaler</label><div class=\"sk-toggleable__content\"><pre>StandardScaler()</pre></div></div></div></div></div>"
      ],
      "text/plain": [
       "StandardScaler()"
      ]
     },
     "execution_count": 115,
     "metadata": {},
     "output_type": "execute_result"
    }
   ],
   "source": [
    "from sklearn.preprocessing import StandardScaler  # класс для скалирования\n",
    "\n",
    "# объявили скалировщик!\n",
    "scaler = StandardScaler()\n",
    "\n",
    "# учим скалировщик скалировать все переменны на трэйне\n",
    "scaler.fit(X_train[var_real]) "
   ]
  },
  {
   "cell_type": "code",
   "execution_count": 116,
   "id": "95389aa1",
   "metadata": {},
   "outputs": [],
   "source": [
    "# Применяем скалировщик к трэйну\n",
    "X_train_scale = scaler.transform(X_train[var_real])\n",
    "\n",
    "# Применяем скалирвощик к тесту \n",
    "X_test_scale = scaler.transform(X_test[var_real])"
   ]
  },
  {
   "cell_type": "code",
   "execution_count": 117,
   "id": "3907eb3e",
   "metadata": {},
   "outputs": [],
   "source": [
    "# Заменяем значения на проскалированные \n",
    "X_train[var_real] = X_train_scale\n",
    "X_test[var_real] = X_test_scale"
   ]
  },
  {
   "cell_type": "markdown",
   "id": "dc469701",
   "metadata": {},
   "source": [
    "## Модуль sklearn.metrics\n",
    "\n",
    "В модуле SKlearn находятся основные метрики для оценки качества моделей машинного обучения:\n",
    "- метрики регрессии\n",
    "- метрики классификации\n",
    "- метрики кластеризации\n",
    "- метрики ранжирования\n",
    "- попарные метрики\n",
    "\n",
    "Т.к. мы решаем задачу регрессии (прогнозируем число), остановимся на основные метриках регрессии"
   ]
  },
  {
   "cell_type": "markdown",
   "id": "44718341",
   "metadata": {},
   "source": [
    "- **sklearn.metrics.mean_absolute_error**(y_true, y_pred, *, sample_weight=None, multioutput='uniform_average')\n",
    "\n",
    "Первой метрикой, с которой мы познакомимся, будет **MAE (mean absolute error)**, средняя абсолютная ошибка. Она вычисляется следующим образом: \n",
    "\n",
    "$$ MAE = \\frac{1}{n}\\sum_{i=1}^{n} |y_i - \\hat{y}_i|. $$\n",
    "\n",
    "Если мы спрогнозировали, что нужно 20кг огурцов, а на самом деле 10, мы ошиблись на |10 - 20| = 10 кг. Средняя абсолютная ошибка - это среднее кол-во кг, на которые мы ошиблись. "
   ]
  },
  {
   "cell_type": "markdown",
   "id": "52da6d09",
   "metadata": {},
   "source": [
    "- **sklearn.metrics.mean_squared_error**(y_true, y_pred, *, sample_weight=None, multioutput='uniform_average', squared=True)\n",
    "\n",
    "Второй метрикой является **MSE (mean squared error)**, средняя квадратичная ошибка. Она вычисляется как \n",
    "\n",
    "$$ MSE = \\frac{1}{n}\\sum_{i=1}^{n} (y_i - \\hat{y}_i)^2.$$\n",
    "\n",
    "Смысл этой ошибки в том, чтобы штрафовать за большие ошибки сильнее, чем за маленькие. Если мы ошиблись на 5 кг, то в ошибку войдёт 25. Если мы ошиблись на 10 кг, то в ошибку войдёт 100. Чем выше ошибка, тем сильнее штраф. "
   ]
  },
  {
   "cell_type": "markdown",
   "id": "e886064a",
   "metadata": {},
   "source": [
    "- **sklearn.metrics.mean_absolute_percentage_error**(y_true, y_pred, *, sample_weight=None, multioutput='uniform_average')\n",
    "\n",
    "Часто для нас принципиальным является не то, на сколько мы ошиблись, а то на сколько процентов мы ошиблись. Метрика, которая отлавливает процентную ошибку, называется **MAPE (mean absolute percentage error)**, средняя абсолютная процентная ошибка. \n",
    "\n",
    "$$\n",
    "MAPE = \\frac{1}{n} \\sum_{i=1}^n \\frac{|y_i - \\hat{y}_i|}{y_i}\n",
    "$$\n",
    "\n",
    "Она часто применяется в следующих задачах: например, вы прогнозируете спрос, и вам принципиально, на сколько процентов вы ошиблись, а не абсолютное значение. Если вы предсказали  один, а в реальности было  десять - это не то же самое, что вы предсказали  тысяча, а в реальности было  тысяча  девять. С точки зрения МАЕ или MSE, это две совершенно одинаковые ошибки. А если вас интересует, сколько в среднем на сколько процентов вы ошибаетесь, то это отражает МАРЕ."
   ]
  },
  {
   "cell_type": "markdown",
   "id": "c87607c4",
   "metadata": {},
   "source": [
    "- **sklearn.metrics.r2_score**(y_true, y_pred, *, sample_weight=None, multioutput='uniform_average', force_finite=True)\n",
    "\n",
    "Качество построенной регрессии измеряется коэффициентом детерминации\n",
    "$R^2$. Он отражает то, какую долю дисперсии объясняемой переменной мы объяснили с помощью нашей модели:\n",
    "\n",
    "$$ R^2 =1- \\frac{ \\frac{1}{n}\\sum_{i=1}^{n} (y_i - \\hat{y}_i)^2}{ \\frac{1}{n}\\sum_{i=1}^{n} (y_i - \\bar{y}_i)^2} $$\n"
   ]
  },
  {
   "cell_type": "code",
   "execution_count": 144,
   "id": "bfe87bda",
   "metadata": {},
   "outputs": [],
   "source": [
    "from sklearn.metrics import mean_absolute_error as mae\n",
    "from sklearn.metrics import mean_squared_error as mse\n",
    "from sklearn.metrics import r2_score"
   ]
  },
  {
   "cell_type": "code",
   "execution_count": 145,
   "id": "52e82524",
   "metadata": {},
   "outputs": [],
   "source": [
    "# функция, которая считает метрики и выводит их на экран\n",
    "def print_metrics(y_test,y_pred):\n",
    "    print('MAE:', mae(y_test, y_pred))\n",
    "    print('RMSE:', np.sqrt(mse(y_test, y_pred)))\n",
    "    print('R2', r2_score(y_test, y_pred))\n",
    "\n",
    "    pass"
   ]
  },
  {
   "cell_type": "markdown",
   "id": "d6fb3369",
   "metadata": {},
   "source": [
    "## Наивный прогноз"
   ]
  },
  {
   "cell_type": "code",
   "execution_count": 146,
   "id": "9f9ea2a6",
   "metadata": {},
   "outputs": [
    {
     "data": {
      "text/plain": [
       "array([15943.38854794, 15943.38854794, 15943.38854794, 15943.38854794,\n",
       "       15943.38854794])"
      ]
     },
     "execution_count": 146,
     "metadata": {},
     "output_type": "execute_result"
    }
   ],
   "source": [
    "y_mean = np.mean(y_train)                     # посчитали среднее \n",
    "y_pred_naive = np.ones(len(y_test)) * y_mean  # спрогнозировали им продажи\n",
    "y_pred_naive[:5]"
   ]
  },
  {
   "cell_type": "code",
   "execution_count": 135,
   "id": "d870c793",
   "metadata": {},
   "outputs": [
    {
     "name": "stdout",
     "output_type": "stream",
     "text": [
      "MAE: 15216.568371501044\n",
      "MAPE 9651579083742458.0\n",
      "RMSE: 23024.934056860013\n",
      "R2 -3.0023812673585226e-05\n"
     ]
    }
   ],
   "source": [
    "# та самая функция, которую мы сделали в самом начале тетрадки\n",
    "print_metrics(y_test, y_pred_naive)"
   ]
  },
  {
   "cell_type": "markdown",
   "id": "56f72b93",
   "metadata": {},
   "source": [
    "## Модуль sklearn.linear_model"
   ]
  },
  {
   "cell_type": "markdown",
   "id": "34239213",
   "metadata": {},
   "source": [
    "Здесь собраны все линейные модели:\n",
    "\n",
    "- **sklearn.linear_model.LinearRegression**(*, fit_intercept=True, copy_X=True, n_jobs=None, positive=False)\n",
    "- **sklearn.linear_model.LogisticRegression**(penalty='l2', *, dual=False, tol=0.0001, C=1.0, fit_intercept=True, intercept_scaling=1, class_weight=None, random_state=None, solver='lbfgs', max_iter=100, multi_class='auto', verbose=0, warm_start=False, n_jobs=None, l1_ratio=None)\n",
    "- **sklearn.linear_model.Ridge**(alpha=1.0, *, fit_intercept=True, copy_X=True, max_iter=None, tol=0.0001, solver='auto', positive=False, random_state=None)\n",
    "- ...."
   ]
  },
  {
   "cell_type": "markdown",
   "id": "c103330e",
   "metadata": {},
   "source": [
    "### Линейная регрессия\n",
    "\n",
    "Пришло время построить линейную регрессию! Эта модель говорит, что объём продаж формируется в результате суммирования тех характеристик, которыми обладает магазин с какими-то весами\n",
    "\n",
    "$$\\hat{y} = \\beta_0 + \\beta_1 x_1 + ... \\beta_n x_n.$$\n",
    "\n",
    "Например, если мы оценили модель и у нас получилось, что \n",
    "\n",
    "$$ sales = 10000 + 20 \\cdot t,$$\n",
    "\n",
    "то это означает, что средний объём продаж равен 10 тыс. рублей. При этом каждый дополнительный градус температуры на улице в среднем при прочих равных увеличивает объёмы продаж на 20 рублей. \n",
    "\n",
    "Для того, чтобы подобрать коэффициенты обычно минимизируют MSE."
   ]
  },
  {
   "cell_type": "code",
   "execution_count": 120,
   "id": "0cf1fb18",
   "metadata": {},
   "outputs": [
    {
     "data": {
      "text/html": [
       "<div>\n",
       "<style scoped>\n",
       "    .dataframe tbody tr th:only-of-type {\n",
       "        vertical-align: middle;\n",
       "    }\n",
       "\n",
       "    .dataframe tbody tr th {\n",
       "        vertical-align: top;\n",
       "    }\n",
       "\n",
       "    .dataframe thead th {\n",
       "        text-align: right;\n",
       "    }\n",
       "</style>\n",
       "<table border=\"1\" class=\"dataframe\">\n",
       "  <thead>\n",
       "    <tr style=\"text-align: right;\">\n",
       "      <th></th>\n",
       "      <th>IsHoliday</th>\n",
       "      <th>Size</th>\n",
       "      <th>Temperature</th>\n",
       "      <th>Fuel_Price</th>\n",
       "      <th>MarkDown1</th>\n",
       "      <th>MarkDown2</th>\n",
       "      <th>MarkDown3</th>\n",
       "      <th>MarkDown4</th>\n",
       "      <th>MarkDown5</th>\n",
       "      <th>CPI</th>\n",
       "      <th>...</th>\n",
       "      <th>Month_Month_11</th>\n",
       "      <th>Month_Month_12</th>\n",
       "      <th>Month_Month_2</th>\n",
       "      <th>Month_Month_3</th>\n",
       "      <th>Month_Month_4</th>\n",
       "      <th>Month_Month_5</th>\n",
       "      <th>Month_Month_6</th>\n",
       "      <th>Month_Month_7</th>\n",
       "      <th>Month_Month_8</th>\n",
       "      <th>Month_Month_9</th>\n",
       "    </tr>\n",
       "  </thead>\n",
       "  <tbody>\n",
       "    <tr>\n",
       "      <th>21732</th>\n",
       "      <td>0</td>\n",
       "      <td>-1.627930</td>\n",
       "      <td>1.271019</td>\n",
       "      <td>-1.580738</td>\n",
       "      <td>-0.428579</td>\n",
       "      <td>-0.173792</td>\n",
       "      <td>-0.084620</td>\n",
       "      <td>-0.277696</td>\n",
       "      <td>-0.397015</td>\n",
       "      <td>1.111725</td>\n",
       "      <td>...</td>\n",
       "      <td>0</td>\n",
       "      <td>0</td>\n",
       "      <td>0</td>\n",
       "      <td>0</td>\n",
       "      <td>0</td>\n",
       "      <td>0</td>\n",
       "      <td>1</td>\n",
       "      <td>0</td>\n",
       "      <td>0</td>\n",
       "      <td>0</td>\n",
       "    </tr>\n",
       "    <tr>\n",
       "      <th>148</th>\n",
       "      <td>0</td>\n",
       "      <td>0.240312</td>\n",
       "      <td>-1.093213</td>\n",
       "      <td>-1.849345</td>\n",
       "      <td>-0.428579</td>\n",
       "      <td>-0.173792</td>\n",
       "      <td>-0.084620</td>\n",
       "      <td>-0.277696</td>\n",
       "      <td>-0.397015</td>\n",
       "      <td>1.022449</td>\n",
       "      <td>...</td>\n",
       "      <td>0</td>\n",
       "      <td>0</td>\n",
       "      <td>1</td>\n",
       "      <td>0</td>\n",
       "      <td>0</td>\n",
       "      <td>0</td>\n",
       "      <td>0</td>\n",
       "      <td>0</td>\n",
       "      <td>0</td>\n",
       "      <td>0</td>\n",
       "    </tr>\n",
       "    <tr>\n",
       "      <th>136907</th>\n",
       "      <td>0</td>\n",
       "      <td>1.053432</td>\n",
       "      <td>0.820844</td>\n",
       "      <td>0.316983</td>\n",
       "      <td>0.330468</td>\n",
       "      <td>-0.131887</td>\n",
       "      <td>-0.084620</td>\n",
       "      <td>-0.199311</td>\n",
       "      <td>0.243779</td>\n",
       "      <td>0.506967</td>\n",
       "      <td>...</td>\n",
       "      <td>0</td>\n",
       "      <td>0</td>\n",
       "      <td>0</td>\n",
       "      <td>0</td>\n",
       "      <td>0</td>\n",
       "      <td>0</td>\n",
       "      <td>1</td>\n",
       "      <td>0</td>\n",
       "      <td>0</td>\n",
       "      <td>0</td>\n",
       "    </tr>\n",
       "    <tr>\n",
       "      <th>405978</th>\n",
       "      <td>0</td>\n",
       "      <td>-1.586637</td>\n",
       "      <td>1.203222</td>\n",
       "      <td>-1.231330</td>\n",
       "      <td>-0.428579</td>\n",
       "      <td>-0.173792</td>\n",
       "      <td>-0.084620</td>\n",
       "      <td>-0.277696</td>\n",
       "      <td>-0.397015</td>\n",
       "      <td>-1.151848</td>\n",
       "      <td>...</td>\n",
       "      <td>0</td>\n",
       "      <td>0</td>\n",
       "      <td>0</td>\n",
       "      <td>0</td>\n",
       "      <td>0</td>\n",
       "      <td>0</td>\n",
       "      <td>0</td>\n",
       "      <td>1</td>\n",
       "      <td>0</td>\n",
       "      <td>0</td>\n",
       "    </tr>\n",
       "    <tr>\n",
       "      <th>339260</th>\n",
       "      <td>0</td>\n",
       "      <td>-0.540846</td>\n",
       "      <td>1.023152</td>\n",
       "      <td>0.354108</td>\n",
       "      <td>0.154754</td>\n",
       "      <td>-0.173792</td>\n",
       "      <td>-0.084593</td>\n",
       "      <td>0.172094</td>\n",
       "      <td>-0.055822</td>\n",
       "      <td>-0.740113</td>\n",
       "      <td>...</td>\n",
       "      <td>0</td>\n",
       "      <td>0</td>\n",
       "      <td>0</td>\n",
       "      <td>0</td>\n",
       "      <td>0</td>\n",
       "      <td>0</td>\n",
       "      <td>0</td>\n",
       "      <td>1</td>\n",
       "      <td>0</td>\n",
       "      <td>0</td>\n",
       "    </tr>\n",
       "    <tr>\n",
       "      <th>...</th>\n",
       "      <td>...</td>\n",
       "      <td>...</td>\n",
       "      <td>...</td>\n",
       "      <td>...</td>\n",
       "      <td>...</td>\n",
       "      <td>...</td>\n",
       "      <td>...</td>\n",
       "      <td>...</td>\n",
       "      <td>...</td>\n",
       "      <td>...</td>\n",
       "      <td>...</td>\n",
       "      <td>...</td>\n",
       "      <td>...</td>\n",
       "      <td>...</td>\n",
       "      <td>...</td>\n",
       "      <td>...</td>\n",
       "      <td>...</td>\n",
       "      <td>...</td>\n",
       "      <td>...</td>\n",
       "      <td>...</td>\n",
       "      <td>...</td>\n",
       "    </tr>\n",
       "    <tr>\n",
       "      <th>203609</th>\n",
       "      <td>0</td>\n",
       "      <td>0.057494</td>\n",
       "      <td>0.291482</td>\n",
       "      <td>0.024354</td>\n",
       "      <td>-0.428579</td>\n",
       "      <td>-0.173792</td>\n",
       "      <td>-0.084620</td>\n",
       "      <td>-0.277696</td>\n",
       "      <td>-0.397015</td>\n",
       "      <td>1.176559</td>\n",
       "      <td>...</td>\n",
       "      <td>0</td>\n",
       "      <td>0</td>\n",
       "      <td>0</td>\n",
       "      <td>0</td>\n",
       "      <td>0</td>\n",
       "      <td>0</td>\n",
       "      <td>0</td>\n",
       "      <td>0</td>\n",
       "      <td>0</td>\n",
       "      <td>0</td>\n",
       "    </tr>\n",
       "    <tr>\n",
       "      <th>120191</th>\n",
       "      <td>0</td>\n",
       "      <td>1.360490</td>\n",
       "      <td>0.159684</td>\n",
       "      <td>-1.135243</td>\n",
       "      <td>-0.428579</td>\n",
       "      <td>-0.173792</td>\n",
       "      <td>-0.084620</td>\n",
       "      <td>-0.277696</td>\n",
       "      <td>-0.397015</td>\n",
       "      <td>-1.147998</td>\n",
       "      <td>...</td>\n",
       "      <td>0</td>\n",
       "      <td>0</td>\n",
       "      <td>0</td>\n",
       "      <td>0</td>\n",
       "      <td>0</td>\n",
       "      <td>0</td>\n",
       "      <td>0</td>\n",
       "      <td>0</td>\n",
       "      <td>0</td>\n",
       "      <td>0</td>\n",
       "    </tr>\n",
       "    <tr>\n",
       "      <th>87143</th>\n",
       "      <td>0</td>\n",
       "      <td>-0.177572</td>\n",
       "      <td>0.730267</td>\n",
       "      <td>0.777765</td>\n",
       "      <td>0.009512</td>\n",
       "      <td>-0.173792</td>\n",
       "      <td>-0.082666</td>\n",
       "      <td>-0.178595</td>\n",
       "      <td>0.623067</td>\n",
       "      <td>1.407150</td>\n",
       "      <td>...</td>\n",
       "      <td>0</td>\n",
       "      <td>0</td>\n",
       "      <td>0</td>\n",
       "      <td>0</td>\n",
       "      <td>0</td>\n",
       "      <td>0</td>\n",
       "      <td>0</td>\n",
       "      <td>0</td>\n",
       "      <td>0</td>\n",
       "      <td>1</td>\n",
       "    </tr>\n",
       "    <tr>\n",
       "      <th>107099</th>\n",
       "      <td>0</td>\n",
       "      <td>1.161683</td>\n",
       "      <td>1.416919</td>\n",
       "      <td>0.290778</td>\n",
       "      <td>2.360700</td>\n",
       "      <td>-0.148348</td>\n",
       "      <td>-0.083031</td>\n",
       "      <td>0.946987</td>\n",
       "      <td>0.580649</td>\n",
       "      <td>1.384599</td>\n",
       "      <td>...</td>\n",
       "      <td>0</td>\n",
       "      <td>0</td>\n",
       "      <td>0</td>\n",
       "      <td>0</td>\n",
       "      <td>0</td>\n",
       "      <td>0</td>\n",
       "      <td>0</td>\n",
       "      <td>0</td>\n",
       "      <td>1</td>\n",
       "      <td>0</td>\n",
       "    </tr>\n",
       "    <tr>\n",
       "      <th>135768</th>\n",
       "      <td>0</td>\n",
       "      <td>1.053432</td>\n",
       "      <td>-0.790023</td>\n",
       "      <td>1.063843</td>\n",
       "      <td>2.177869</td>\n",
       "      <td>0.034143</td>\n",
       "      <td>-0.084349</td>\n",
       "      <td>0.314111</td>\n",
       "      <td>0.247798</td>\n",
       "      <td>0.487480</td>\n",
       "      <td>...</td>\n",
       "      <td>0</td>\n",
       "      <td>0</td>\n",
       "      <td>0</td>\n",
       "      <td>1</td>\n",
       "      <td>0</td>\n",
       "      <td>0</td>\n",
       "      <td>0</td>\n",
       "      <td>0</td>\n",
       "      <td>0</td>\n",
       "      <td>0</td>\n",
       "    </tr>\n",
       "  </tbody>\n",
       "</table>\n",
       "<p>295098 rows × 292 columns</p>\n",
       "</div>"
      ],
      "text/plain": [
       "        IsHoliday      Size  Temperature  Fuel_Price  MarkDown1  MarkDown2  \\\n",
       "21732           0 -1.627930     1.271019   -1.580738  -0.428579  -0.173792   \n",
       "148             0  0.240312    -1.093213   -1.849345  -0.428579  -0.173792   \n",
       "136907          0  1.053432     0.820844    0.316983   0.330468  -0.131887   \n",
       "405978          0 -1.586637     1.203222   -1.231330  -0.428579  -0.173792   \n",
       "339260          0 -0.540846     1.023152    0.354108   0.154754  -0.173792   \n",
       "...           ...       ...          ...         ...        ...        ...   \n",
       "203609          0  0.057494     0.291482    0.024354  -0.428579  -0.173792   \n",
       "120191          0  1.360490     0.159684   -1.135243  -0.428579  -0.173792   \n",
       "87143           0 -0.177572     0.730267    0.777765   0.009512  -0.173792   \n",
       "107099          0  1.161683     1.416919    0.290778   2.360700  -0.148348   \n",
       "135768          0  1.053432    -0.790023    1.063843   2.177869   0.034143   \n",
       "\n",
       "        MarkDown3  MarkDown4  MarkDown5       CPI  ...  Month_Month_11  \\\n",
       "21732   -0.084620  -0.277696  -0.397015  1.111725  ...               0   \n",
       "148     -0.084620  -0.277696  -0.397015  1.022449  ...               0   \n",
       "136907  -0.084620  -0.199311   0.243779  0.506967  ...               0   \n",
       "405978  -0.084620  -0.277696  -0.397015 -1.151848  ...               0   \n",
       "339260  -0.084593   0.172094  -0.055822 -0.740113  ...               0   \n",
       "...           ...        ...        ...       ...  ...             ...   \n",
       "203609  -0.084620  -0.277696  -0.397015  1.176559  ...               0   \n",
       "120191  -0.084620  -0.277696  -0.397015 -1.147998  ...               0   \n",
       "87143   -0.082666  -0.178595   0.623067  1.407150  ...               0   \n",
       "107099  -0.083031   0.946987   0.580649  1.384599  ...               0   \n",
       "135768  -0.084349   0.314111   0.247798  0.487480  ...               0   \n",
       "\n",
       "        Month_Month_12  Month_Month_2  Month_Month_3  Month_Month_4  \\\n",
       "21732                0              0              0              0   \n",
       "148                  0              1              0              0   \n",
       "136907               0              0              0              0   \n",
       "405978               0              0              0              0   \n",
       "339260               0              0              0              0   \n",
       "...                ...            ...            ...            ...   \n",
       "203609               0              0              0              0   \n",
       "120191               0              0              0              0   \n",
       "87143                0              0              0              0   \n",
       "107099               0              0              0              0   \n",
       "135768               0              0              1              0   \n",
       "\n",
       "        Month_Month_5  Month_Month_6  Month_Month_7  Month_Month_8  \\\n",
       "21732               0              1              0              0   \n",
       "148                 0              0              0              0   \n",
       "136907              0              1              0              0   \n",
       "405978              0              0              1              0   \n",
       "339260              0              0              1              0   \n",
       "...               ...            ...            ...            ...   \n",
       "203609              0              0              0              0   \n",
       "120191              0              0              0              0   \n",
       "87143               0              0              0              0   \n",
       "107099              0              0              0              1   \n",
       "135768              0              0              0              0   \n",
       "\n",
       "        Month_Month_9  \n",
       "21732               0  \n",
       "148                 0  \n",
       "136907              0  \n",
       "405978              0  \n",
       "339260              0  \n",
       "...               ...  \n",
       "203609              0  \n",
       "120191              0  \n",
       "87143               1  \n",
       "107099              0  \n",
       "135768              0  \n",
       "\n",
       "[295098 rows x 292 columns]"
      ]
     },
     "execution_count": 120,
     "metadata": {},
     "output_type": "execute_result"
    }
   ],
   "source": [
    "X_train"
   ]
  },
  {
   "cell_type": "code",
   "execution_count": 121,
   "id": "8791e405",
   "metadata": {
    "scrolled": true
   },
   "outputs": [
    {
     "data": {
      "text/plain": [
       "IsHoliday          int64\n",
       "Size             float64\n",
       "Temperature      float64\n",
       "Fuel_Price       float64\n",
       "MarkDown1        float64\n",
       "                  ...   \n",
       "Month_Month_5      uint8\n",
       "Month_Month_6      uint8\n",
       "Month_Month_7      uint8\n",
       "Month_Month_8      uint8\n",
       "Month_Month_9      uint8\n",
       "Length: 292, dtype: object"
      ]
     },
     "execution_count": 121,
     "metadata": {},
     "output_type": "execute_result"
    }
   ],
   "source": [
    "X_train.dtypes"
   ]
  },
  {
   "cell_type": "code",
   "execution_count": 122,
   "id": "0ef307cd",
   "metadata": {},
   "outputs": [
    {
     "data": {
      "text/plain": [
       "0"
      ]
     },
     "execution_count": 122,
     "metadata": {},
     "output_type": "execute_result"
    }
   ],
   "source": [
    "y_test.isnull().sum()"
   ]
  },
  {
   "cell_type": "code",
   "execution_count": 123,
   "id": "5c6907bd",
   "metadata": {},
   "outputs": [],
   "source": [
    "from sklearn.linear_model import LinearRegression # подгрузили модель\n",
    "\n",
    "# Объявили модель\n",
    "model_regression = LinearRegression()\n",
    "\n",
    "# Обучили модель на тренировочной выборке \n",
    "model_regression.fit(X_train, y_train)\n",
    "\n",
    "# Сделали прогнозы на тестовой выборке \n",
    "y_pred_regr = model_regression.predict(X_test)"
   ]
  },
  {
   "cell_type": "code",
   "execution_count": 133,
   "id": "0908646b",
   "metadata": {
    "scrolled": true
   },
   "outputs": [
    {
     "name": "stdout",
     "output_type": "stream",
     "text": [
      "MAE: 8410.734822133138\n",
      "MAPE 6771797727053749.0\n",
      "RMSE: 14223.183201432843\n",
      "R2 0.6183986900571377\n"
     ]
    }
   ],
   "source": [
    "print_metrics(y_test, y_pred_regr)"
   ]
  },
  {
   "cell_type": "code",
   "execution_count": 140,
   "id": "5ab5c7f5",
   "metadata": {},
   "outputs": [
    {
     "data": {
      "image/png": "[encoded data removed]",
      "text/plain": [
       "<Figure size 640x480 with 1 Axes>"
      ]
     },
     "metadata": {},
     "output_type": "display_data"
    }
   ],
   "source": [
    "plt.scatter(y_test, y_pred_regr)\n",
    "plt.xlabel('Истинные значения')\n",
    "plt.ylabel('Предсказанные значения')\n",
    "plt.axis('equal')\n",
    "plt.axis('square')\n",
    "plt.xlim([0,plt.xlim()[1]])\n",
    "plt.ylim([0,plt.ylim()[1]])\n",
    "_ = plt.plot([-100, 100], [-100, 100])"
   ]
  },
  {
   "cell_type": "code",
   "execution_count": 29,
   "id": "378cfc58",
   "metadata": {},
   "outputs": [
    {
     "name": "stdout",
     "output_type": "stream",
     "text": [
      "CPU times: user 6min 46s, sys: 16.7 s, total: 7min 3s\n",
      "Wall time: 3min 48s\n"
     ]
    }
   ],
   "source": [
    "%%time\n",
    "from sklearn.model_selection import GridSearchCV\n",
    "\n",
    "# Решётака для перебора параметра \n",
    "param_grid = {'alpha': [0.001, 0.01, 0.05, 0.1, 0.5, 0.8, 1, 5, 10]}\n",
    "\n",
    "# Объявили модель \n",
    "model_lasso = Lasso() \n",
    "\n",
    "# Объявили перебор, cv=5 это количество фолдов для валидации\n",
    "grid_cv_lasso = GridSearchCV(model_lasso, param_grid, cv = 5, scoring='neg_mean_absolute_error')\n",
    "\n",
    "# обучаем решётку\n",
    "grid_cv_lasso.fit(X_train, y_train)"
   ]
  },
  {
   "cell_type": "markdown",
   "id": "374ec093",
   "metadata": {},
   "source": [
    "Перебор работает очень долго. Для каждого `alpha` нам надо учить `cv` моделей. Всего получается в нашей ситуции учится $9 \\cdot 5 = 45$ моделей. Параметров для перебора в моделях бывает много. Обычно поиск по решётке используют в случае $1,2$, ну максимум $3$ параметров."
   ]
  },
  {
   "cell_type": "code",
   "execution_count": null,
   "id": "6e5cff30",
   "metadata": {},
   "outputs": [],
   "source": [
    "print('Лучшее значение параметра:', grid_cv_lasso.best_params_)\n",
    "print('Лучшее качество:', grid_cv_lasso.best_score_)"
   ]
  },
  {
   "cell_type": "code",
   "execution_count": null,
   "id": "559052ca",
   "metadata": {},
   "outputs": [],
   "source": [
    "-1*grid_cv_lasso.best_score_"
   ]
  },
  {
   "cell_type": "code",
   "execution_count": null,
   "id": "8522b315",
   "metadata": {},
   "outputs": [],
   "source": [
    "model_lasso = grid_cv_lasso.best_estimator_\n",
    "\n",
    "# Сделали прогнозы\n",
    "y_pred_lasso = model_lasso.predict(X_test)"
   ]
  },
  {
   "cell_type": "code",
   "execution_count": null,
   "id": "2ed285e9",
   "metadata": {},
   "outputs": [],
   "source": [
    "mae(y_test, y_pred_lasso)"
   ]
  },
  {
   "cell_type": "markdown",
   "id": "acf21117",
   "metadata": {},
   "source": [
    "Лучшее `alpha` оказалось очень маленьким. Значит модели не нужна регуляризация. Это хорошая новость."
   ]
  },
  {
   "cell_type": "markdown",
   "id": "44d2c59f",
   "metadata": {},
   "source": [
    "## Модуль sklearn.tree"
   ]
  },
  {
   "cell_type": "code",
   "execution_count": 148,
   "id": "3940baa3",
   "metadata": {},
   "outputs": [
    {
     "name": "stdout",
     "output_type": "stream",
     "text": [
      "CPU times: user 16 s, sys: 395 ms, total: 16.4 s\n",
      "Wall time: 16.5 s\n"
     ]
    }
   ],
   "source": [
    "%%time\n",
    "from sklearn.tree import DecisionTreeRegressor\n",
    "\n",
    "# Объявили лес из 10 деревьев \n",
    "dt = DecisionTreeRegressor()\n",
    "# Обучили лес \n",
    "dt.fit(X_train, y_train)\n",
    "\n",
    "# Сделали по лесу прогнозы \n",
    "y_pred_tree = rf.predict(X_test)"
   ]
  },
  {
   "cell_type": "code",
   "execution_count": 150,
   "id": "595d7b14",
   "metadata": {},
   "outputs": [
    {
     "name": "stdout",
     "output_type": "stream",
     "text": [
      "MAE: 2155.394095879688\n",
      "RMSE: 5778.03307954065\n",
      "R2 0.9370238224814288\n"
     ]
    }
   ],
   "source": [
    "print_metrics(y_test, y_pred_tree)"
   ]
  },
  {
   "cell_type": "markdown",
   "id": "0be58b1f",
   "metadata": {},
   "source": [
    "## Модуль sklearn.ensemble"
   ]
  },
  {
   "cell_type": "code",
   "execution_count": 141,
   "id": "5017c2c5",
   "metadata": {},
   "outputs": [
    {
     "name": "stdout",
     "output_type": "stream",
     "text": [
      "CPU times: user 1min 47s, sys: 872 ms, total: 1min 47s\n",
      "Wall time: 1min 48s\n"
     ]
    }
   ],
   "source": [
    "%%time\n",
    "from sklearn.ensemble import RandomForestRegressor\n",
    "\n",
    "# Объявили лес из 10 деревьев \n",
    "rf = RandomForestRegressor(n_estimators=10)\n",
    "# Обучили лес \n",
    "rf.fit(X_train, y_train)\n",
    "\n",
    "# Сделали по лесу прогнозы \n",
    "y_pred_forest = rf.predict(X_test)"
   ]
  },
  {
   "cell_type": "code",
   "execution_count": 149,
   "id": "a25f16c1",
   "metadata": {},
   "outputs": [
    {
     "name": "stdout",
     "output_type": "stream",
     "text": [
      "MAE: 2155.394095879688\n",
      "RMSE: 5778.03307954065\n",
      "R2 0.9370238224814288\n"
     ]
    }
   ],
   "source": [
    "print_metrics(y_test, y_pred_forest)"
   ]
  }
 ],
 "metadata": {
  "kernelspec": {
   "display_name": "Python 3 (ipykernel)",
   "language": "python",
   "name": "python3"
  },
  "language_info": {
   "codemirror_mode": {
    "name": "ipython",
    "version": 3
   },
   "file_extension": ".py",
   "mimetype": "text/x-python",
   "name": "python",
   "nbconvert_exporter": "python",
   "pygments_lexer": "ipython3",
   "version": "3.9.15"
  }
 },
 "nbformat": 4,
 "nbformat_minor": 5
}
